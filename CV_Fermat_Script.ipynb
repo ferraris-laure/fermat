{
 "cells": [
  {
   "cell_type": "markdown",
   "id": "c1f27ce7-f2ba-4a7e-b061-8f7592f0fc8c",
   "metadata": {},
   "source": [
    "# Fermat distance - Coefficient of Variation"
   ]
  },
  {
   "cell_type": "markdown",
   "id": "c06b4cc6-b969-4319-bd55-fcbeb1940700",
   "metadata": {
    "tags": []
   },
   "source": [
    "Add table + introduction"
   ]
  },
  {
   "cell_type": "code",
   "execution_count": 4,
   "id": "c7ec9f8f-4196-4968-b2ff-02153c1deabb",
   "metadata": {},
   "outputs": [],
   "source": [
    "from fermat.L_fermat_stat import *\n",
    "import concurrent.futures as cf\n",
    "import logging\n",
    "from tqdm import tqdm"
   ]
  },
  {
   "cell_type": "markdown",
   "id": "eb4bd4ab-4c7b-47da-9028-65f8ec44e361",
   "metadata": {},
   "source": [
    "# Cylinder"
   ]
  },
  {
   "cell_type": "markdown",
   "id": "e5153822-7e8b-4f3c-b3b5-3e3e50631507",
   "metadata": {},
   "source": [
    "# GOOD CODE Multiple simulations (5/10/22)"
   ]
  },
  {
   "cell_type": "code",
   "execution_count": 5,
   "id": "0fce5b61-b06b-4c57-8e76-dc8079ce63fd",
   "metadata": {},
   "outputs": [
    {
     "data": {
      "text/plain": [
       "array([1.5, 2. , 2.5, 3. , 3.5, 4. , 4.5, 5. , 5.5, 6. , 6.5, 7. , 7.5,\n",
       "       8. ])"
      ]
     },
     "execution_count": 5,
     "metadata": {},
     "output_type": "execute_result"
    }
   ],
   "source": [
    "np.linspace(1.5, 8., 14, endpoint=True)"
   ]
  },
  {
   "cell_type": "markdown",
   "id": "93ce426f-6dc3-441e-8ac1-2de3ed36e19b",
   "metadata": {},
   "source": [
    "# No Harmonizer"
   ]
  },
  {
   "cell_type": "code",
   "execution_count": 6,
   "id": "c0a22bdb-0a76-4f68-a9c0-00ab268a140d",
   "metadata": {},
   "outputs": [],
   "source": [
    "#Parameters\n",
    "\n",
    "all_n = [50] #Sample size\n",
    "all_d = [1]\n",
    "#all_d = [1,2,3,4,5]\n",
    "#all_d = [1]\n",
    "#all_n = [100, 200, 400, 800, 1600]\n",
    "all_alpha = np.linspace(1.5, 8., 14, endpoint=True) #Fermat dist parameter\n",
    "\n",
    "n_simulations = 50 #Number of experiences\n",
    "n_batch = 25 \n",
    "all_n_simulations = np.repeat(n_batch, n_simulations/n_batch)\n",
    "assert np.sum(all_n_simulations) == n_simulations\n",
    "\n",
    "#Harmonizer or Not\n",
    "h = 0\n",
    "harmonizer = [None,'Knn','Epsilon_radius','Delaunay'][h]\n",
    "n_harmonizers = 1\n",
    "k = None\n",
    "eps = None\n",
    "\n",
    "n_workers = 10\n",
    "\n",
    "import itertools\n",
    "all_n, all_d, all_alpha, all_n_simulations = zip(*itertools.product(all_n, all_d, all_alpha, all_n_simulations))\n",
    "\n",
    "# we shuffle to help parallelization\n",
    "from sklearn.utils import shuffle\n",
    "all_n, all_d, all_alpha, all_n_simulations = shuffle(all_n, all_d, all_alpha, all_n_simulations, random_state=0)\n",
    "\n",
    "# since each worker works as a separate machine, we need to somehow fix the seed for each taks\n",
    "#n_tasks = int(n_simulations/n_batch)\n",
    "#all_seed = np.random.randint(0, 2**32-1, n_tasks)\n",
    "#all_seed = range(int(n_simulations/n_batch))\n",
    "\n",
    "n_tasks = len(all_alpha)\n",
    "all_seed = np.random.randint(0, 2**32-1, n_tasks)\n",
    "assert len(np.unique(all_seed)) == n_tasks\n",
    "\n",
    "title_csv = 'xp_result/Fermat_CV_Cylinder_NoHarmonizer_d1to5.csv'"
   ]
  },
  {
   "cell_type": "code",
   "execution_count": 7,
   "id": "0f5e5e3e-6c4f-414f-abd8-dc7cd59c38fb",
   "metadata": {},
   "outputs": [
    {
     "name": "stderr",
     "output_type": "stream",
     "text": [
      "28it [00:03,  8.40it/s]\n"
     ]
    },
    {
     "name": "stdout",
     "output_type": "stream",
     "text": [
      "CPU times: user 64 ms, sys: 97.4 ms, total: 161 ms\n",
      "Wall time: 3.96 s\n"
     ]
    }
   ],
   "source": [
    "%%time\n",
    "with cf.ProcessPoolExecutor(max_workers=n_workers) as executor:  \n",
    "    future_to_ind = {executor.submit(fermat_simu_cylinder, n, d, [a], 1, b, harmonizer, n_harmonizers, k, eps, s): ind \n",
    "                     for ind, (n,d,a,b,s) in enumerate(zip(all_n,all_d,all_alpha,all_n_simulations,all_seed))}\n",
    "    logging.info(\"Submitted_futures\")\n",
    "    results=[]\n",
    "    for future in tqdm(cf.as_completed(future_to_ind)):\n",
    "        ind = future_to_ind[future]\n",
    "        try:\n",
    "            result_N_dict = future.result()\n",
    "            results.append(result_N_dict)\n",
    "        except Exception as exc:\n",
    "            logging.error(f\"{ind} generated an exception: {exc}\", exc_info=True)\n",
    "df = pd.concat(results)\n",
    "#df.to_csv(title_csv)"
   ]
  },
  {
   "cell_type": "markdown",
   "id": "7c3d0f4a-8e53-4083-a053-d588226f2f22",
   "metadata": {},
   "source": [
    "# Knn-Harmonizer"
   ]
  },
  {
   "cell_type": "code",
   "execution_count": 13,
   "id": "efa899ca-59b9-443e-80f9-c59008c531fe",
   "metadata": {},
   "outputs": [],
   "source": [
    "#Parameters\n",
    "\n",
    "#all_n = [50] #Sample size\n",
    "#all_d = [1]\n",
    "all_d = [1,2,3,4,5]\n",
    "#all_d = [1]\n",
    "all_n = [100, 200, 400, 800, 1600]\n",
    "all_alpha = np.linspace(1.5, 8., 14, endpoint=True) #Fermat dist parameter\n",
    "\n",
    "n_simulations = 50 #Number of experiences\n",
    "n_batch = 25 \n",
    "all_n_simulations = np.repeat(n_batch, n_simulations/n_batch)\n",
    "assert np.sum(all_n_simulations) == n_simulations\n",
    "\n",
    "#Harmonizer or Not\n",
    "h = 1\n",
    "harmonizer = [None,'Knn','Epsilon_radius','Delaunay'][h]\n",
    "n_harmonizers = 1\n",
    "all_k = np.arange(2,6)\n",
    "eps = None\n",
    "\n",
    "n_workers = 10\n",
    "\n",
    "import itertools\n",
    "all_n, all_d, all_alpha, all_n_simulations, all_k = zip(*itertools.product(all_n, all_d, all_alpha, all_n_simulations, all_k))\n",
    "\n",
    "# we shuffle to help parallelization\n",
    "from sklearn.utils import shuffle\n",
    "all_n, all_d, all_alpha, all_n_simulations, all_k = shuffle(all_n, all_d, all_alpha, all_n_simulations, all_k, random_state=0)\n",
    "\n",
    "# since each worker works as a separate machine, we need to somehow fix the seed for each taks\n",
    "#n_tasks = int(n_simulations/n_batch)\n",
    "#all_seed = np.random.randint(0, 2**32-1, n_tasks)\n",
    "#all_seed = range(int(n_simulations/n_batch))\n",
    "\n",
    "n_tasks = len(all_alpha)\n",
    "all_seed = np.random.randint(0, 2**32-1, n_tasks)\n",
    "assert len(np.unique(all_seed)) == n_tasks\n",
    "\n",
    "title_csv = 'xp_result/Fermat_CV_Cylinder_Knn2to5_d1to5.csv'"
   ]
  },
  {
   "cell_type": "code",
   "execution_count": 14,
   "id": "3ddb1c20-c6db-45f9-ace2-e2ac4bb91840",
   "metadata": {},
   "outputs": [
    {
     "name": "stderr",
     "output_type": "stream",
     "text": [
      "112it [00:04, 26.93it/s]\n"
     ]
    },
    {
     "name": "stdout",
     "output_type": "stream",
     "text": [
      "CPU times: user 150 ms, sys: 102 ms, total: 253 ms\n",
      "Wall time: 4.83 s\n"
     ]
    }
   ],
   "source": [
    "%%time\n",
    "with cf.ProcessPoolExecutor(max_workers=n_workers) as executor:  \n",
    "    future_to_ind = {executor.submit(fermat_simu_cylinder, n, d, [a], 1, b, harmonizer, n_harmonizers, k, eps, s): ind \n",
    "                     for ind, (n,d,a,b,k,s) in enumerate(zip(all_n,all_d,all_alpha,all_n_simulations,all_k,all_seed))}\n",
    "    logging.info(\"Submitted_futures\")\n",
    "    results=[]\n",
    "    for future in tqdm(cf.as_completed(future_to_ind)):\n",
    "        ind = future_to_ind[future]\n",
    "        try:\n",
    "            result_N_dict = future.result()\n",
    "            results.append(result_N_dict)\n",
    "        except Exception as exc:\n",
    "            logging.error(f\"{ind} generated an exception: {exc}\", exc_info=True)\n",
    "df = pd.concat(results)\n",
    "#df.to_csv(title_csv)"
   ]
  }
 ],
 "metadata": {
  "kernelspec": {
   "display_name": "Python 3 (ipykernel)",
   "language": "python",
   "name": "python3"
  },
  "language_info": {
   "codemirror_mode": {
    "name": "ipython",
    "version": 3
   },
   "file_extension": ".py",
   "mimetype": "text/x-python",
   "name": "python",
   "nbconvert_exporter": "python",
   "pygments_lexer": "ipython3",
   "version": "3.10.6"
  }
 },
 "nbformat": 4,
 "nbformat_minor": 5
}
